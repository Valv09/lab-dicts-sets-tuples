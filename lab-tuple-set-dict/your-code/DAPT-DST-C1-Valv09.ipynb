{
 "cells": [
  {
   "cell_type": "markdown",
   "id": "7c6a31e1",
   "metadata": {},
   "source": [
    "# Challenge 1: Tuples\n",
    "### Do you know you can create tuples with only one element?\n",
    "#### In the cell below, define a variable tup with a single element \"I\".\n",
    "\n",
    "#### Hint: you need to add a comma (,) after the single element."
   ]
  },
  {
   "cell_type": "code",
   "execution_count": 2,
   "id": "f390fbb5",
   "metadata": {},
   "outputs": [
    {
     "name": "stdout",
     "output_type": "stream",
     "text": [
      "('I',)\n"
     ]
    }
   ],
   "source": [
    "tupla = tuple(['I', ])\n",
    "print (tupla)"
   ]
  },
  {
   "cell_type": "markdown",
   "id": "5dba1dd4",
   "metadata": {},
   "source": [
    "#### Print the type of tup."
   ]
  },
  {
   "cell_type": "code",
   "execution_count": 3,
   "id": "852b38e8",
   "metadata": {},
   "outputs": [
    {
     "data": {
      "text/plain": [
       "tuple"
      ]
     },
     "execution_count": 3,
     "metadata": {},
     "output_type": "execute_result"
    }
   ],
   "source": [
    "type (tupla)"
   ]
  },
  {
   "cell_type": "markdown",
   "id": "f1446dc3",
   "metadata": {},
   "source": [
    "### Now try to append the following elements to tup."
   ]
  },
  {
   "cell_type": "code",
   "execution_count": 4,
   "id": "bc5cdcd4",
   "metadata": {},
   "outputs": [
    {
     "data": {
      "text/plain": [
       "['I', 'r', 'o', 'n', 'h', 'a', 'c', 'k']"
      ]
     },
     "execution_count": 4,
     "metadata": {},
     "output_type": "execute_result"
    }
   ],
   "source": [
    "tup = ['I',]\n",
    "tup_2 = [\"r\", \"o\", \"n\", \"h\", \"a\", \"c\", \"k\",]\n",
    "tup + tup_2\n",
    "# a pesar de que las tuplas son inmutables, en este comando podemos decirle que lea todo junto y por eso nos agrega la letra que faltaba"
   ]
  },
  {
   "cell_type": "markdown",
   "id": "00405029",
   "metadata": {},
   "source": [
    "### Split tup into tup1 and tup2 with 4 elements in each.\n",
    "#### tup1 should be (\"I\", \"r\", \"o\", \"n\") and tup2 should be (\"h\", \"a\", \"c\", \"k\").\n",
    "\n",
    "#### Hint: use positive index numbers for tup1 assignment and use negative index numbers for tup2 assignment. Positive index numbers count from the beginning whereas negative index numbers count from the end of the sequence.\n",
    "\n",
    "#### Also print tup1 and tup2."
   ]
  },
  {
   "cell_type": "code",
   "execution_count": 5,
   "id": "8839a8b6",
   "metadata": {},
   "outputs": [
    {
     "name": "stdout",
     "output_type": "stream",
     "text": [
      "['I', 'r', 'o', 'n']\n",
      "['h', 'a', 'c', 'k']\n"
     ]
    }
   ],
   "source": [
    "tup1 = ['I', 'r', 'o', 'n']\n",
    "tup2 = ['h', 'a', 'c', 'k']\n",
    "print (tup1)\n",
    "print (tup2)"
   ]
  },
  {
   "cell_type": "markdown",
   "id": "1d5f124a",
   "metadata": {},
   "source": [
    "#### Add tup1 and tup2 into tup3 using the + operator.\n",
    "#### Then print tup3 and check if tup3 equals to tup."
   ]
  },
  {
   "cell_type": "code",
   "execution_count": 6,
   "id": "770c7143",
   "metadata": {},
   "outputs": [
    {
     "name": "stdout",
     "output_type": "stream",
     "text": [
      "['I', 'r', 'o', 'n', 'h', 'a', 'c', 'k']\n"
     ]
    }
   ],
   "source": [
    "tup3 = tup1 + tup2\n",
    "print (tup3)"
   ]
  },
  {
   "cell_type": "markdown",
   "id": "c425d88f",
   "metadata": {},
   "source": [
    "#### What is the index number of \"h\" in tup3?"
   ]
  },
  {
   "cell_type": "code",
   "execution_count": 7,
   "id": "83ca8aba",
   "metadata": {},
   "outputs": [
    {
     "data": {
      "text/plain": [
       "4"
      ]
     },
     "execution_count": 7,
     "metadata": {},
     "output_type": "execute_result"
    }
   ],
   "source": [
    "tup3.index('h')"
   ]
  },
  {
   "cell_type": "markdown",
   "id": "0632f29f",
   "metadata": {},
   "source": [
    "#### Now, use a FOR loop to check whether each letter in the following list is present in tup3:"
   ]
  },
  {
   "cell_type": "code",
   "execution_count": 8,
   "id": "c0fa69fa",
   "metadata": {},
   "outputs": [
    {
     "name": "stdout",
     "output_type": "stream",
     "text": [
      "la tupla original es : ['I', 'r', 'o', 'n', 'h', 'a', 'c', 'k']\n",
      "coincide alguna letra en la tupla ? : True\n"
     ]
    }
   ],
   "source": [
    "tup3 = ['I', 'r', 'o', 'n', 'h', 'a', 'c', 'k'] \n",
    "print(\"la tupla original es : \" + str(tup3))\n",
    "\n",
    "letters = [\"a\", \"b\", \"c\", \"d\", \"e\"]\n",
    " \n",
    "res = False\n",
    "for letra in letters:\n",
    "     \n",
    "    if letra in tup3:\n",
    "        res = True\n",
    "        break\n",
    "        \n",
    "print(\"coincide alguna letra en la tupla ? : \" + str(res))"
   ]
  },
  {
   "cell_type": "markdown",
   "id": "980a3374",
   "metadata": {},
   "source": [
    "#### How many times does each letter in letters appear in tup3?"
   ]
  },
  {
   "cell_type": "code",
   "execution_count": 9,
   "id": "a24991d6",
   "metadata": {},
   "outputs": [
    {
     "name": "stdout",
     "output_type": "stream",
     "text": [
      "1 times\n",
      "0 times\n",
      "1 times\n",
      "0 times\n",
      "0 times\n"
     ]
    }
   ],
   "source": [
    "tup3 = ['I', 'r', 'o', 'n', 'h', 'a', 'c', 'k'] \n",
    "print (tup3.count('a'), \"times\")\n",
    "print (tup3.count('b'), \"times\")\n",
    "print (tup3.count('c'), \"times\")\n",
    "print (tup3.count('d'), \"times\")\n",
    "print (tup3.count('e'), \"times\")"
   ]
  },
  {
   "cell_type": "code",
   "execution_count": null,
   "id": "a2c09f9d",
   "metadata": {},
   "outputs": [],
   "source": []
  }
 ],
 "metadata": {
  "kernelspec": {
   "display_name": "Python 3 (ipykernel)",
   "language": "python",
   "name": "python3"
  },
  "language_info": {
   "codemirror_mode": {
    "name": "ipython",
    "version": 3
   },
   "file_extension": ".py",
   "mimetype": "text/x-python",
   "name": "python",
   "nbconvert_exporter": "python",
   "pygments_lexer": "ipython3",
   "version": "3.9.12"
  }
 },
 "nbformat": 4,
 "nbformat_minor": 5
}
